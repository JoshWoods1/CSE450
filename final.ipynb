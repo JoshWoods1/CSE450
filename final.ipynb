{
 "cells": [
  {
   "cell_type": "code",
   "execution_count": 1,
   "metadata": {},
   "outputs": [],
   "source": [
    "import pandas as pd\n",
    "import numpy as np\n",
    "import matplotlib.pyplot as plt\n",
    "import seaborn as sns"
   ]
  },
  {
   "cell_type": "code",
   "execution_count": 2,
   "metadata": {},
   "outputs": [
    {
     "name": "stderr",
     "output_type": "stream",
     "text": [
      "C:\\Users\\Josh\\AppData\\Local\\Temp\\ipykernel_18300\\3412889342.py:1: DtypeWarning: Columns (42,166,167,168,169,174,175,178,179,182,183,188,189,190,191,194,195,203,204,205,218,219,220,231,232,233,238,240,241,249) have mixed types. Specify dtype option on import or set low_memory=False.\n",
      "  df = pd.read_csv('archive/NFL Play by Play 2009-2018 (v5).csv')\n"
     ]
    }
   ],
   "source": [
    "df = pd.read_csv('archive/NFL Play by Play 2009-2018 (v5).csv')"
   ]
  },
  {
   "cell_type": "code",
   "execution_count": 3,
   "metadata": {},
   "outputs": [
    {
     "data": {
      "text/plain": [
       "(449371, 255)"
      ]
     },
     "execution_count": 3,
     "metadata": {},
     "output_type": "execute_result"
    }
   ],
   "source": [
    "df.shape"
   ]
  },
  {
   "cell_type": "code",
   "execution_count": 4,
   "metadata": {},
   "outputs": [
    {
     "data": {
      "text/html": [
       "<div>\n",
       "<style scoped>\n",
       "    .dataframe tbody tr th:only-of-type {\n",
       "        vertical-align: middle;\n",
       "    }\n",
       "\n",
       "    .dataframe tbody tr th {\n",
       "        vertical-align: top;\n",
       "    }\n",
       "\n",
       "    .dataframe thead th {\n",
       "        text-align: right;\n",
       "    }\n",
       "</style>\n",
       "<table border=\"1\" class=\"dataframe\">\n",
       "  <thead>\n",
       "    <tr style=\"text-align: right;\">\n",
       "      <th></th>\n",
       "      <th>play_id</th>\n",
       "      <th>game_id</th>\n",
       "      <th>home_team</th>\n",
       "      <th>away_team</th>\n",
       "      <th>posteam</th>\n",
       "      <th>posteam_type</th>\n",
       "      <th>defteam</th>\n",
       "      <th>side_of_field</th>\n",
       "      <th>yardline_100</th>\n",
       "      <th>quarter_seconds_remaining</th>\n",
       "      <th>...</th>\n",
       "      <th>replay_or_challenge</th>\n",
       "      <th>replay_or_challenge_result</th>\n",
       "      <th>penalty_type</th>\n",
       "      <th>defensive_two_point_attempt</th>\n",
       "      <th>defensive_two_point_conv</th>\n",
       "      <th>defensive_extra_point_attempt</th>\n",
       "      <th>defensive_extra_point_conv</th>\n",
       "      <th>year</th>\n",
       "      <th>month</th>\n",
       "      <th>day</th>\n",
       "    </tr>\n",
       "  </thead>\n",
       "  <tbody>\n",
       "    <tr>\n",
       "      <th>407335</th>\n",
       "      <td>37</td>\n",
       "      <td>2018090600</td>\n",
       "      <td>PHI</td>\n",
       "      <td>ATL</td>\n",
       "      <td>ATL</td>\n",
       "      <td>away</td>\n",
       "      <td>PHI</td>\n",
       "      <td>PHI</td>\n",
       "      <td>35.0</td>\n",
       "      <td>900.0</td>\n",
       "      <td>...</td>\n",
       "      <td>0</td>\n",
       "      <td>NaN</td>\n",
       "      <td>NaN</td>\n",
       "      <td>0.0</td>\n",
       "      <td>0.0</td>\n",
       "      <td>0.0</td>\n",
       "      <td>0.0</td>\n",
       "      <td>2018</td>\n",
       "      <td>9</td>\n",
       "      <td>6</td>\n",
       "    </tr>\n",
       "    <tr>\n",
       "      <th>407336</th>\n",
       "      <td>52</td>\n",
       "      <td>2018090600</td>\n",
       "      <td>PHI</td>\n",
       "      <td>ATL</td>\n",
       "      <td>ATL</td>\n",
       "      <td>away</td>\n",
       "      <td>PHI</td>\n",
       "      <td>ATL</td>\n",
       "      <td>75.0</td>\n",
       "      <td>900.0</td>\n",
       "      <td>...</td>\n",
       "      <td>0</td>\n",
       "      <td>NaN</td>\n",
       "      <td>False Start</td>\n",
       "      <td>0.0</td>\n",
       "      <td>0.0</td>\n",
       "      <td>0.0</td>\n",
       "      <td>0.0</td>\n",
       "      <td>2018</td>\n",
       "      <td>9</td>\n",
       "      <td>6</td>\n",
       "    </tr>\n",
       "    <tr>\n",
       "      <th>407337</th>\n",
       "      <td>75</td>\n",
       "      <td>2018090600</td>\n",
       "      <td>PHI</td>\n",
       "      <td>ATL</td>\n",
       "      <td>ATL</td>\n",
       "      <td>away</td>\n",
       "      <td>PHI</td>\n",
       "      <td>ATL</td>\n",
       "      <td>80.0</td>\n",
       "      <td>900.0</td>\n",
       "      <td>...</td>\n",
       "      <td>0</td>\n",
       "      <td>NaN</td>\n",
       "      <td>NaN</td>\n",
       "      <td>0.0</td>\n",
       "      <td>0.0</td>\n",
       "      <td>0.0</td>\n",
       "      <td>0.0</td>\n",
       "      <td>2018</td>\n",
       "      <td>9</td>\n",
       "      <td>6</td>\n",
       "    </tr>\n",
       "    <tr>\n",
       "      <th>407338</th>\n",
       "      <td>104</td>\n",
       "      <td>2018090600</td>\n",
       "      <td>PHI</td>\n",
       "      <td>ATL</td>\n",
       "      <td>ATL</td>\n",
       "      <td>away</td>\n",
       "      <td>PHI</td>\n",
       "      <td>ATL</td>\n",
       "      <td>70.0</td>\n",
       "      <td>862.0</td>\n",
       "      <td>...</td>\n",
       "      <td>0</td>\n",
       "      <td>NaN</td>\n",
       "      <td>NaN</td>\n",
       "      <td>0.0</td>\n",
       "      <td>0.0</td>\n",
       "      <td>0.0</td>\n",
       "      <td>0.0</td>\n",
       "      <td>2018</td>\n",
       "      <td>9</td>\n",
       "      <td>6</td>\n",
       "    </tr>\n",
       "    <tr>\n",
       "      <th>407339</th>\n",
       "      <td>125</td>\n",
       "      <td>2018090600</td>\n",
       "      <td>PHI</td>\n",
       "      <td>ATL</td>\n",
       "      <td>ATL</td>\n",
       "      <td>away</td>\n",
       "      <td>PHI</td>\n",
       "      <td>ATL</td>\n",
       "      <td>59.0</td>\n",
       "      <td>826.0</td>\n",
       "      <td>...</td>\n",
       "      <td>0</td>\n",
       "      <td>NaN</td>\n",
       "      <td>NaN</td>\n",
       "      <td>0.0</td>\n",
       "      <td>0.0</td>\n",
       "      <td>0.0</td>\n",
       "      <td>0.0</td>\n",
       "      <td>2018</td>\n",
       "      <td>9</td>\n",
       "      <td>6</td>\n",
       "    </tr>\n",
       "    <tr>\n",
       "      <th>...</th>\n",
       "      <td>...</td>\n",
       "      <td>...</td>\n",
       "      <td>...</td>\n",
       "      <td>...</td>\n",
       "      <td>...</td>\n",
       "      <td>...</td>\n",
       "      <td>...</td>\n",
       "      <td>...</td>\n",
       "      <td>...</td>\n",
       "      <td>...</td>\n",
       "      <td>...</td>\n",
       "      <td>...</td>\n",
       "      <td>...</td>\n",
       "      <td>...</td>\n",
       "      <td>...</td>\n",
       "      <td>...</td>\n",
       "      <td>...</td>\n",
       "      <td>...</td>\n",
       "      <td>...</td>\n",
       "      <td>...</td>\n",
       "      <td>...</td>\n",
       "    </tr>\n",
       "    <tr>\n",
       "      <th>449366</th>\n",
       "      <td>4059</td>\n",
       "      <td>2018121700</td>\n",
       "      <td>CAR</td>\n",
       "      <td>NO</td>\n",
       "      <td>CAR</td>\n",
       "      <td>home</td>\n",
       "      <td>NO</td>\n",
       "      <td>CAR</td>\n",
       "      <td>66.0</td>\n",
       "      <td>63.0</td>\n",
       "      <td>...</td>\n",
       "      <td>0</td>\n",
       "      <td>NaN</td>\n",
       "      <td>NaN</td>\n",
       "      <td>0.0</td>\n",
       "      <td>0.0</td>\n",
       "      <td>0.0</td>\n",
       "      <td>0.0</td>\n",
       "      <td>2018</td>\n",
       "      <td>12</td>\n",
       "      <td>17</td>\n",
       "    </tr>\n",
       "    <tr>\n",
       "      <th>449367</th>\n",
       "      <td>4081</td>\n",
       "      <td>2018121700</td>\n",
       "      <td>CAR</td>\n",
       "      <td>NO</td>\n",
       "      <td>CAR</td>\n",
       "      <td>home</td>\n",
       "      <td>NO</td>\n",
       "      <td>CAR</td>\n",
       "      <td>66.0</td>\n",
       "      <td>58.0</td>\n",
       "      <td>...</td>\n",
       "      <td>0</td>\n",
       "      <td>NaN</td>\n",
       "      <td>NaN</td>\n",
       "      <td>0.0</td>\n",
       "      <td>0.0</td>\n",
       "      <td>0.0</td>\n",
       "      <td>0.0</td>\n",
       "      <td>2018</td>\n",
       "      <td>12</td>\n",
       "      <td>17</td>\n",
       "    </tr>\n",
       "    <tr>\n",
       "      <th>449368</th>\n",
       "      <td>4106</td>\n",
       "      <td>2018121700</td>\n",
       "      <td>CAR</td>\n",
       "      <td>NO</td>\n",
       "      <td>CAR</td>\n",
       "      <td>home</td>\n",
       "      <td>NO</td>\n",
       "      <td>CAR</td>\n",
       "      <td>61.0</td>\n",
       "      <td>38.0</td>\n",
       "      <td>...</td>\n",
       "      <td>0</td>\n",
       "      <td>NaN</td>\n",
       "      <td>NaN</td>\n",
       "      <td>0.0</td>\n",
       "      <td>0.0</td>\n",
       "      <td>0.0</td>\n",
       "      <td>0.0</td>\n",
       "      <td>2018</td>\n",
       "      <td>12</td>\n",
       "      <td>17</td>\n",
       "    </tr>\n",
       "    <tr>\n",
       "      <th>449369</th>\n",
       "      <td>4128</td>\n",
       "      <td>2018121700</td>\n",
       "      <td>CAR</td>\n",
       "      <td>NO</td>\n",
       "      <td>NO</td>\n",
       "      <td>away</td>\n",
       "      <td>CAR</td>\n",
       "      <td>CAR</td>\n",
       "      <td>39.0</td>\n",
       "      <td>35.0</td>\n",
       "      <td>...</td>\n",
       "      <td>0</td>\n",
       "      <td>NaN</td>\n",
       "      <td>NaN</td>\n",
       "      <td>0.0</td>\n",
       "      <td>0.0</td>\n",
       "      <td>0.0</td>\n",
       "      <td>0.0</td>\n",
       "      <td>2018</td>\n",
       "      <td>12</td>\n",
       "      <td>17</td>\n",
       "    </tr>\n",
       "    <tr>\n",
       "      <th>449370</th>\n",
       "      <td>4150</td>\n",
       "      <td>2018121700</td>\n",
       "      <td>CAR</td>\n",
       "      <td>NO</td>\n",
       "      <td>NaN</td>\n",
       "      <td>NaN</td>\n",
       "      <td>NaN</td>\n",
       "      <td>CAR</td>\n",
       "      <td>NaN</td>\n",
       "      <td>0.0</td>\n",
       "      <td>...</td>\n",
       "      <td>0</td>\n",
       "      <td>NaN</td>\n",
       "      <td>NaN</td>\n",
       "      <td>NaN</td>\n",
       "      <td>NaN</td>\n",
       "      <td>NaN</td>\n",
       "      <td>NaN</td>\n",
       "      <td>2018</td>\n",
       "      <td>12</td>\n",
       "      <td>17</td>\n",
       "    </tr>\n",
       "  </tbody>\n",
       "</table>\n",
       "<p>42036 rows × 257 columns</p>\n",
       "</div>"
      ],
      "text/plain": [
       "        play_id     game_id home_team away_team posteam posteam_type defteam  \\\n",
       "407335       37  2018090600       PHI       ATL     ATL         away     PHI   \n",
       "407336       52  2018090600       PHI       ATL     ATL         away     PHI   \n",
       "407337       75  2018090600       PHI       ATL     ATL         away     PHI   \n",
       "407338      104  2018090600       PHI       ATL     ATL         away     PHI   \n",
       "407339      125  2018090600       PHI       ATL     ATL         away     PHI   \n",
       "...         ...         ...       ...       ...     ...          ...     ...   \n",
       "449366     4059  2018121700       CAR        NO     CAR         home      NO   \n",
       "449367     4081  2018121700       CAR        NO     CAR         home      NO   \n",
       "449368     4106  2018121700       CAR        NO     CAR         home      NO   \n",
       "449369     4128  2018121700       CAR        NO      NO         away     CAR   \n",
       "449370     4150  2018121700       CAR        NO     NaN          NaN     NaN   \n",
       "\n",
       "       side_of_field  yardline_100  quarter_seconds_remaining  ...  \\\n",
       "407335           PHI          35.0                      900.0  ...   \n",
       "407336           ATL          75.0                      900.0  ...   \n",
       "407337           ATL          80.0                      900.0  ...   \n",
       "407338           ATL          70.0                      862.0  ...   \n",
       "407339           ATL          59.0                      826.0  ...   \n",
       "...              ...           ...                        ...  ...   \n",
       "449366           CAR          66.0                       63.0  ...   \n",
       "449367           CAR          66.0                       58.0  ...   \n",
       "449368           CAR          61.0                       38.0  ...   \n",
       "449369           CAR          39.0                       35.0  ...   \n",
       "449370           CAR           NaN                        0.0  ...   \n",
       "\n",
       "        replay_or_challenge  replay_or_challenge_result penalty_type  \\\n",
       "407335                    0                         NaN          NaN   \n",
       "407336                    0                         NaN  False Start   \n",
       "407337                    0                         NaN          NaN   \n",
       "407338                    0                         NaN          NaN   \n",
       "407339                    0                         NaN          NaN   \n",
       "...                     ...                         ...          ...   \n",
       "449366                    0                         NaN          NaN   \n",
       "449367                    0                         NaN          NaN   \n",
       "449368                    0                         NaN          NaN   \n",
       "449369                    0                         NaN          NaN   \n",
       "449370                    0                         NaN          NaN   \n",
       "\n",
       "        defensive_two_point_attempt  defensive_two_point_conv  \\\n",
       "407335                          0.0                       0.0   \n",
       "407336                          0.0                       0.0   \n",
       "407337                          0.0                       0.0   \n",
       "407338                          0.0                       0.0   \n",
       "407339                          0.0                       0.0   \n",
       "...                             ...                       ...   \n",
       "449366                          0.0                       0.0   \n",
       "449367                          0.0                       0.0   \n",
       "449368                          0.0                       0.0   \n",
       "449369                          0.0                       0.0   \n",
       "449370                          NaN                       NaN   \n",
       "\n",
       "        defensive_extra_point_attempt  defensive_extra_point_conv  year  \\\n",
       "407335                            0.0                         0.0  2018   \n",
       "407336                            0.0                         0.0  2018   \n",
       "407337                            0.0                         0.0  2018   \n",
       "407338                            0.0                         0.0  2018   \n",
       "407339                            0.0                         0.0  2018   \n",
       "...                               ...                         ...   ...   \n",
       "449366                            0.0                         0.0  2018   \n",
       "449367                            0.0                         0.0  2018   \n",
       "449368                            0.0                         0.0  2018   \n",
       "449369                            0.0                         0.0  2018   \n",
       "449370                            NaN                         NaN  2018   \n",
       "\n",
       "        month day  \n",
       "407335      9   6  \n",
       "407336      9   6  \n",
       "407337      9   6  \n",
       "407338      9   6  \n",
       "407339      9   6  \n",
       "...       ...  ..  \n",
       "449366     12  17  \n",
       "449367     12  17  \n",
       "449368     12  17  \n",
       "449369     12  17  \n",
       "449370     12  17  \n",
       "\n",
       "[42036 rows x 257 columns]"
      ]
     },
     "execution_count": 4,
     "metadata": {},
     "output_type": "execute_result"
    }
   ],
   "source": [
    "df['game_date'] = pd.to_datetime(df['game_date'])\n",
    "\n",
    "# Extract year, month, and day\n",
    "df['year'] = df['game_date'].dt.year\n",
    "df['month'] = df['game_date'].dt.month\n",
    "df['day'] = df['game_date'].dt.day\n",
    "\n",
    "df = df[df['year'] == 2018]\n",
    "df.drop(['game_date'], axis=1, inplace=True)\n",
    "df"
   ]
  },
  {
   "cell_type": "code",
   "execution_count": 5,
   "metadata": {},
   "outputs": [
    {
     "data": {
      "text/plain": [
       "play_type\n",
       "pass           17600\n",
       "run            12020\n",
       "no_play         4137\n",
       "kickoff         2435\n",
       "punt            2027\n",
       "extra_point     1064\n",
       "field_goal       889\n",
       "qb_kneel         360\n",
       "qb_spike          75\n",
       "Name: count, dtype: int64"
      ]
     },
     "execution_count": 5,
     "metadata": {},
     "output_type": "execute_result"
    }
   ],
   "source": [
    "df.play_type.value_counts()"
   ]
  },
  {
   "cell_type": "code",
   "execution_count": 6,
   "metadata": {},
   "outputs": [
    {
     "data": {
      "text/plain": [
       "array(['kickoff', 'no_play', 'pass', 'run', 'punt', 'field_goal', nan,\n",
       "       'qb_kneel', 'extra_point', 'qb_spike'], dtype=object)"
      ]
     },
     "execution_count": 6,
     "metadata": {},
     "output_type": "execute_result"
    }
   ],
   "source": [
    "df['play_type'].unique()"
   ]
  },
  {
   "cell_type": "code",
   "execution_count": 7,
   "metadata": {},
   "outputs": [
    {
     "data": {
      "text/plain": [
       "(42036, 257)"
      ]
     },
     "execution_count": 7,
     "metadata": {},
     "output_type": "execute_result"
    }
   ],
   "source": [
    "df.shape"
   ]
  },
  {
   "cell_type": "code",
   "execution_count": 8,
   "metadata": {},
   "outputs": [
    {
     "name": "stderr",
     "output_type": "stream",
     "text": [
      "C:\\Users\\Josh\\AppData\\Local\\Temp\\ipykernel_18300\\2909664435.py:1: FutureWarning: A value is trying to be set on a copy of a DataFrame or Series through chained assignment using an inplace method.\n",
      "The behavior will change in pandas 3.0. This inplace method will never work because the intermediate object on which we are setting values always behaves as a copy.\n",
      "\n",
      "For example, when doing 'df[col].method(value, inplace=True)', try using 'df.method({col: value}, inplace=True)' or df[col] = df[col].method(value) instead, to perform the operation inplace on the original object.\n",
      "\n",
      "\n",
      "  df['play_type'].replace(\n"
     ]
    }
   ],
   "source": [
    "df['play_type'].replace(\n",
    "    to_replace = 'Sack',\n",
    "    value='Pass',\n",
    "    inplace=True\n",
    ")\n",
    "relevantPlays = ['run', 'pass', 'punt', 'field_goal', 'qb_kneel','kickoff']\n",
    "df = df.loc[df['play_type'].isin(relevantPlays)]"
   ]
  },
  {
   "cell_type": "code",
   "execution_count": 9,
   "metadata": {},
   "outputs": [
    {
     "data": {
      "text/plain": [
       "(35331, 257)"
      ]
     },
     "execution_count": 9,
     "metadata": {},
     "output_type": "execute_result"
    }
   ],
   "source": [
    "df.shape"
   ]
  },
  {
   "cell_type": "code",
   "execution_count": 10,
   "metadata": {},
   "outputs": [
    {
     "data": {
      "text/plain": [
       "(35331, 257)"
      ]
     },
     "execution_count": 10,
     "metadata": {},
     "output_type": "execute_result"
    }
   ],
   "source": [
    "df = df.dropna(subset = ['posteam'])\n",
    "df.shape"
   ]
  },
  {
   "cell_type": "code",
   "execution_count": 11,
   "metadata": {},
   "outputs": [],
   "source": [
    "pass_tendencies = {}\n",
    "\n",
    "# https://www.teamrankings.com/nfl/stat/passing-play-pct?date=2018-02-01\n",
    "pass_tendencies['ARI'] = 61.32\n",
    "pass_tendencies['ATL'] = 56.14\n",
    "pass_tendencies['BAL'] = 56.36\n",
    "pass_tendencies['BUF'] = 52.12\n",
    "pass_tendencies['CAR'] = 52.96\n",
    "pass_tendencies['CHI'] = 54.82\n",
    "pass_tendencies['CIN'] = 59.33\n",
    "pass_tendencies['CLE'] = 61.90\n",
    "pass_tendencies['DAL'] = 52.24\n",
    "pass_tendencies['DEN'] = 57.49\n",
    "pass_tendencies['DET'] = 62.96\n",
    "pass_tendencies['GB'] = 61.36\n",
    "pass_tendencies['HOU'] = 56.38\n",
    "pass_tendencies['IND'] = 54.63\n",
    "pass_tendencies['JAC'] = 50.51\n",
    "pass_tendencies['KC'] = 59.44\n",
    "pass_tendencies['SD'] = 58.92\n",
    "pass_tendencies['STL'] = 55.83\n",
    "pass_tendencies['OAK'] = 61.13\n",
    "pass_tendencies['MIA'] = 63.82\n",
    "pass_tendencies['MIN'] = 54.07\n",
    "pass_tendencies['NE'] = 59.21\n",
    "pass_tendencies['NO'] = 56.37\n",
    "pass_tendencies['NYG'] = 61.97\n",
    "pass_tendencies['NYJ'] = 56.61\n",
    "pass_tendencies['PHI'] = 55.42\n",
    "pass_tendencies['PIT'] = 59.70\n",
    "pass_tendencies['SEA'] = 59.38\n",
    "pass_tendencies['SF'] = 61.44\n",
    "pass_tendencies['TB'] = 62.32\n",
    "pass_tendencies['TEN'] = 55.41\n",
    "pass_tendencies['WAS'] = 59.17"
   ]
  },
  {
   "cell_type": "code",
   "execution_count": 39,
   "metadata": {},
   "outputs": [
    {
     "data": {
      "text/plain": [
       "407335     0\n",
       "407337    15\n",
       "407338     5\n",
       "407339    10\n",
       "407340    10\n",
       "          ..\n",
       "449364     1\n",
       "449366    10\n",
       "449367    10\n",
       "449368     5\n",
       "449369    10\n",
       "Name: ydstogo, Length: 35331, dtype: int64"
      ]
     },
     "execution_count": 39,
     "metadata": {},
     "output_type": "execute_result"
    }
   ],
   "source": [
    "df['PassRatio'] = df['posteam'].map(pass_tendencies)\n",
    "df.ydstogo"
   ]
  },
  {
   "cell_type": "code",
   "execution_count": 13,
   "metadata": {},
   "outputs": [],
   "source": [
    "plays = df['play_type']\n",
    "isKick = []\n",
    "for play in plays:\n",
    "    if play=='kickoff':\n",
    "        isKick = 1\n",
    "    else:\n",
    "        isKick = 0\n",
    "df['isKick'] = isKick"
   ]
  },
  {
   "cell_type": "code",
   "execution_count": 14,
   "metadata": {},
   "outputs": [
    {
     "name": "stdout",
     "output_type": "stream",
     "text": [
      "Number of  run  plays : 12020\n",
      "Number of  pass  plays : 17600\n",
      "Number of  punt  plays : 2027\n",
      "Number of  field_goal  plays : 889\n",
      "Number of  qb_kneel  plays : 360\n",
      "Number of  kickoff  plays : 2435\n"
     ]
    }
   ],
   "source": [
    "for play in relevantPlays:\n",
    "    df2 = df.loc[df['play_type']==play]\n",
    "    print(\"Number of \", play, \" plays :\", df2.shape[0])"
   ]
  },
  {
   "cell_type": "code",
   "execution_count": 63,
   "metadata": {},
   "outputs": [
    {
     "data": {
      "text/plain": [
       "Index(['play_id', 'game_id', 'home_team', 'away_team', 'posteam',\n",
       "       'posteam_type', 'defteam', 'side_of_field', 'yardline_100',\n",
       "       'quarter_seconds_remaining',\n",
       "       ...\n",
       "       'penalty_type', 'defensive_two_point_attempt',\n",
       "       'defensive_two_point_conv', 'defensive_extra_point_attempt',\n",
       "       'defensive_extra_point_conv', 'year', 'month', 'day', 'PassRatio',\n",
       "       'isKick'],\n",
       "      dtype='object', length=259)"
      ]
     },
     "execution_count": 63,
     "metadata": {},
     "output_type": "execute_result"
    }
   ],
   "source": [
    "df.columns"
   ]
  },
  {
   "cell_type": "code",
   "execution_count": 103,
   "metadata": {},
   "outputs": [
    {
     "data": {
      "text/html": [
       "<div>\n",
       "<style scoped>\n",
       "    .dataframe tbody tr th:only-of-type {\n",
       "        vertical-align: middle;\n",
       "    }\n",
       "\n",
       "    .dataframe tbody tr th {\n",
       "        vertical-align: top;\n",
       "    }\n",
       "\n",
       "    .dataframe thead th {\n",
       "        text-align: right;\n",
       "    }\n",
       "</style>\n",
       "<table border=\"1\" class=\"dataframe\">\n",
       "  <thead>\n",
       "    <tr style=\"text-align: right;\">\n",
       "      <th></th>\n",
       "      <th>play_id</th>\n",
       "      <th>game_id</th>\n",
       "      <th>home_team</th>\n",
       "      <th>away_team</th>\n",
       "      <th>posteam</th>\n",
       "      <th>posteam_type</th>\n",
       "      <th>defteam</th>\n",
       "      <th>side_of_field</th>\n",
       "      <th>yardline_100</th>\n",
       "      <th>quarter_seconds_remaining</th>\n",
       "      <th>...</th>\n",
       "      <th>penalty_type</th>\n",
       "      <th>defensive_two_point_attempt</th>\n",
       "      <th>defensive_two_point_conv</th>\n",
       "      <th>defensive_extra_point_attempt</th>\n",
       "      <th>defensive_extra_point_conv</th>\n",
       "      <th>year</th>\n",
       "      <th>month</th>\n",
       "      <th>day</th>\n",
       "      <th>PassRatio</th>\n",
       "      <th>isKick</th>\n",
       "    </tr>\n",
       "  </thead>\n",
       "  <tbody>\n",
       "    <tr>\n",
       "      <th>407335</th>\n",
       "      <td>37</td>\n",
       "      <td>2018090600</td>\n",
       "      <td>PHI</td>\n",
       "      <td>ATL</td>\n",
       "      <td>ATL</td>\n",
       "      <td>away</td>\n",
       "      <td>PHI</td>\n",
       "      <td>PHI</td>\n",
       "      <td>35.0</td>\n",
       "      <td>900.0</td>\n",
       "      <td>...</td>\n",
       "      <td>NaN</td>\n",
       "      <td>0.0</td>\n",
       "      <td>0.0</td>\n",
       "      <td>0.0</td>\n",
       "      <td>0.0</td>\n",
       "      <td>2018</td>\n",
       "      <td>9</td>\n",
       "      <td>6</td>\n",
       "      <td>56.14</td>\n",
       "      <td>0</td>\n",
       "    </tr>\n",
       "    <tr>\n",
       "      <th>407337</th>\n",
       "      <td>75</td>\n",
       "      <td>2018090600</td>\n",
       "      <td>PHI</td>\n",
       "      <td>ATL</td>\n",
       "      <td>ATL</td>\n",
       "      <td>away</td>\n",
       "      <td>PHI</td>\n",
       "      <td>ATL</td>\n",
       "      <td>80.0</td>\n",
       "      <td>900.0</td>\n",
       "      <td>...</td>\n",
       "      <td>NaN</td>\n",
       "      <td>0.0</td>\n",
       "      <td>0.0</td>\n",
       "      <td>0.0</td>\n",
       "      <td>0.0</td>\n",
       "      <td>2018</td>\n",
       "      <td>9</td>\n",
       "      <td>6</td>\n",
       "      <td>56.14</td>\n",
       "      <td>0</td>\n",
       "    </tr>\n",
       "    <tr>\n",
       "      <th>407338</th>\n",
       "      <td>104</td>\n",
       "      <td>2018090600</td>\n",
       "      <td>PHI</td>\n",
       "      <td>ATL</td>\n",
       "      <td>ATL</td>\n",
       "      <td>away</td>\n",
       "      <td>PHI</td>\n",
       "      <td>ATL</td>\n",
       "      <td>70.0</td>\n",
       "      <td>862.0</td>\n",
       "      <td>...</td>\n",
       "      <td>NaN</td>\n",
       "      <td>0.0</td>\n",
       "      <td>0.0</td>\n",
       "      <td>0.0</td>\n",
       "      <td>0.0</td>\n",
       "      <td>2018</td>\n",
       "      <td>9</td>\n",
       "      <td>6</td>\n",
       "      <td>56.14</td>\n",
       "      <td>0</td>\n",
       "    </tr>\n",
       "    <tr>\n",
       "      <th>407339</th>\n",
       "      <td>125</td>\n",
       "      <td>2018090600</td>\n",
       "      <td>PHI</td>\n",
       "      <td>ATL</td>\n",
       "      <td>ATL</td>\n",
       "      <td>away</td>\n",
       "      <td>PHI</td>\n",
       "      <td>ATL</td>\n",
       "      <td>59.0</td>\n",
       "      <td>826.0</td>\n",
       "      <td>...</td>\n",
       "      <td>NaN</td>\n",
       "      <td>0.0</td>\n",
       "      <td>0.0</td>\n",
       "      <td>0.0</td>\n",
       "      <td>0.0</td>\n",
       "      <td>2018</td>\n",
       "      <td>9</td>\n",
       "      <td>6</td>\n",
       "      <td>56.14</td>\n",
       "      <td>0</td>\n",
       "    </tr>\n",
       "    <tr>\n",
       "      <th>407340</th>\n",
       "      <td>146</td>\n",
       "      <td>2018090600</td>\n",
       "      <td>PHI</td>\n",
       "      <td>ATL</td>\n",
       "      <td>ATL</td>\n",
       "      <td>away</td>\n",
       "      <td>PHI</td>\n",
       "      <td>PHI</td>\n",
       "      <td>39.0</td>\n",
       "      <td>790.0</td>\n",
       "      <td>...</td>\n",
       "      <td>NaN</td>\n",
       "      <td>0.0</td>\n",
       "      <td>0.0</td>\n",
       "      <td>0.0</td>\n",
       "      <td>0.0</td>\n",
       "      <td>2018</td>\n",
       "      <td>9</td>\n",
       "      <td>6</td>\n",
       "      <td>56.14</td>\n",
       "      <td>0</td>\n",
       "    </tr>\n",
       "  </tbody>\n",
       "</table>\n",
       "<p>5 rows × 259 columns</p>\n",
       "</div>"
      ],
      "text/plain": [
       "        play_id     game_id home_team away_team posteam posteam_type defteam  \\\n",
       "407335       37  2018090600       PHI       ATL     ATL         away     PHI   \n",
       "407337       75  2018090600       PHI       ATL     ATL         away     PHI   \n",
       "407338      104  2018090600       PHI       ATL     ATL         away     PHI   \n",
       "407339      125  2018090600       PHI       ATL     ATL         away     PHI   \n",
       "407340      146  2018090600       PHI       ATL     ATL         away     PHI   \n",
       "\n",
       "       side_of_field  yardline_100  quarter_seconds_remaining  ...  \\\n",
       "407335           PHI          35.0                      900.0  ...   \n",
       "407337           ATL          80.0                      900.0  ...   \n",
       "407338           ATL          70.0                      862.0  ...   \n",
       "407339           ATL          59.0                      826.0  ...   \n",
       "407340           PHI          39.0                      790.0  ...   \n",
       "\n",
       "        penalty_type  defensive_two_point_attempt defensive_two_point_conv  \\\n",
       "407335           NaN                          0.0                      0.0   \n",
       "407337           NaN                          0.0                      0.0   \n",
       "407338           NaN                          0.0                      0.0   \n",
       "407339           NaN                          0.0                      0.0   \n",
       "407340           NaN                          0.0                      0.0   \n",
       "\n",
       "        defensive_extra_point_attempt  defensive_extra_point_conv  year  \\\n",
       "407335                            0.0                         0.0  2018   \n",
       "407337                            0.0                         0.0  2018   \n",
       "407338                            0.0                         0.0  2018   \n",
       "407339                            0.0                         0.0  2018   \n",
       "407340                            0.0                         0.0  2018   \n",
       "\n",
       "        month  day  PassRatio isKick  \n",
       "407335      9    6      56.14      0  \n",
       "407337      9    6      56.14      0  \n",
       "407338      9    6      56.14      0  \n",
       "407339      9    6      56.14      0  \n",
       "407340      9    6      56.14      0  \n",
       "\n",
       "[5 rows x 259 columns]"
      ]
     },
     "execution_count": 103,
     "metadata": {},
     "output_type": "execute_result"
    }
   ],
   "source": [
    "df.head()"
   ]
  },
  {
   "cell_type": "code",
   "execution_count": 100,
   "metadata": {},
   "outputs": [],
   "source": [
    "# X = df.drop(['play_type','run_gap', 'pass_length','pass_location','field_goal_result','field_goal_attempt', 'time', 'play_id', 'pass_attempt', 'rush_attempt', 'punt_attempt', 'kickoff_attempt', 'qb_dropback', 'run_location', 'punter_player_id','air_yards', 'rusher_player_name', 'air_epa', 'punter_player_name', 'rusher_player_id', 'passer_player_name', 'passer_player_id', 'punt_returner_player_name', 'punt_downed', 'punt_returner_player_id', 'air_wpa', 'punt_out_of_bounds', 'yac_wpa', 'yac_epa', 'first_down_rush'], axis = 1)\n",
    "X = df[['down', 'ydstogo', 'yardline_100', 'PassRatio', 'quarter_seconds_remaining','half_seconds_remaining', 'drive', ]]\n",
    "y = df['play_type']\n",
    "\n",
    "from sklearn.model_selection import train_test_split\n",
    "X_train, X_test, y_train, y_test = train_test_split(X, y, test_size=0.2, random_state=42)"
   ]
  },
  {
   "cell_type": "code",
   "execution_count": 23,
   "metadata": {},
   "outputs": [
    {
     "name": "stdout",
     "output_type": "stream",
     "text": [
      "Number of  run  plays : 9624\n",
      "Number of  pass  plays : 14021\n",
      "Number of  punt  plays : 1653\n",
      "Number of  field_goal  plays : 707\n",
      "Number of  qb_kneel  plays : 278\n",
      "Number of  kickoff  plays : 1981\n"
     ]
    }
   ],
   "source": [
    "for play in relevantPlays:\n",
    "    df2 = y_train.loc[y_train==play]\n",
    "    print(\"Number of \", play, \" plays :\", df2.shape[0])"
   ]
  },
  {
   "cell_type": "code",
   "execution_count": 27,
   "metadata": {},
   "outputs": [
    {
     "data": {
      "text/plain": [
       "[0.34050382111519956,\n",
       " 0.4960727427115766,\n",
       " 0.05848429097084631,\n",
       " 0.025014152278516843,\n",
       " 0.009835833569204642,\n",
       " 0.0700891593546561]"
      ]
     },
     "execution_count": 27,
     "metadata": {},
     "output_type": "execute_result"
    }
   ],
   "source": [
    "probs = []\n",
    "for play in relevantPlays:\n",
    "    df2 = y_train.loc[y_train==play]\n",
    "    probs.append(df2.shape[0] / y_train.shape[0])\n",
    "\n",
    "probs"
   ]
  },
  {
   "cell_type": "code",
   "execution_count": 113,
   "metadata": {},
   "outputs": [
    {
     "name": "stdout",
     "output_type": "stream",
     "text": [
      "Accuracy: 70.85%\n",
      "              precision    recall  f1-score   support\n",
      "\n",
      "  field_goal       0.85      0.89      0.87       182\n",
      "     kickoff       0.99      1.00      1.00       454\n",
      "        pass       0.71      0.74      0.72      3579\n",
      "        punt       0.92      0.95      0.94       374\n",
      "    qb_kneel       0.86      0.61      0.71        82\n",
      "         run       0.60      0.55      0.58      2396\n",
      "\n",
      "    accuracy                           0.71      7067\n",
      "   macro avg       0.82      0.79      0.80      7067\n",
      "weighted avg       0.71      0.71      0.71      7067\n",
      "\n"
     ]
    },
    {
     "data": {
      "image/png": "[encoded data removed]",
      "text/plain": [
       "<Figure size 1000x700 with 2 Axes>"
      ]
     },
     "metadata": {},
     "output_type": "display_data"
    }
   ],
   "source": [
    "from sklearn.preprocessing import LabelEncoder\n",
    "from sklearn.metrics import accuracy_score, confusion_matrix, classification_report\n",
    "from xgboost import XGBClassifier\n",
    "\n",
    "# Initialize LabelEncoder\n",
    "label_encoder = LabelEncoder()\n",
    "\n",
    "# Encode target labels\n",
    "y_train_encoded = label_encoder.fit_transform(y_train)\n",
    "y_test_encoded = label_encoder.transform(y_test)\n",
    "\n",
    "# Convert object columns to categorical\n",
    "categorical_columns = X_train.select_dtypes(include=['object']).columns\n",
    "for col in categorical_columns:\n",
    "    X_train[col] = X_train[col].astype('category')\n",
    "    X_test[col] = X_test[col].astype('category')\n",
    "\n",
    "# Enable categorical support\n",
    "model = XGBClassifier(tree_method=\"hist\", enable_categorical=True)\n",
    "model.fit(X_train, y_train_encoded)\n",
    "\n",
    "\n",
    "# Predict\n",
    "y_pred_encoded = model.predict(X_test)\n",
    "\n",
    "# Decode predictions back to original labels (optional)\n",
    "y_pred = label_encoder.inverse_transform(y_pred_encoded)\n",
    "\n",
    "# Calculate metrics\n",
    "accuracy = accuracy_score(y_test_encoded, y_pred_encoded)\n",
    "print(\"Accuracy: %.2f%%\" % (accuracy * 100.0))\n",
    "\n",
    "print(classification_report(y_test, y_pred, target_names=label_encoder.classes_))\n",
    "conf_matrix = confusion_matrix(y_test_encoded, y_pred_encoded)\n",
    "\n",
    "\n",
    "plt.figure(figsize=(10, 7))\n",
    "sns.heatmap(conf_matrix, annot=True, fmt='d', cmap='Blues', xticklabels=label_encoder.classes_, yticklabels=label_encoder.classes_)\n",
    "plt.title('Confusion Matrix')\n",
    "plt.xlabel('Predicted')\n",
    "plt.ylabel('Actual')\n",
    "plt.show()"
   ]
  },
  {
   "cell_type": "code",
   "execution_count": 102,
   "metadata": {},
   "outputs": [
    {
     "name": "stdout",
     "output_type": "stream",
     "text": [
      "                     Feature  Importance\n",
      "0                       down    0.785255\n",
      "1                    ydstogo    0.061895\n",
      "2               yardline_100    0.052845\n",
      "5     half_seconds_remaining    0.045060\n",
      "6                      drive    0.020152\n",
      "3                  PassRatio    0.017734\n",
      "4  quarter_seconds_remaining    0.017059\n"
     ]
    }
   ],
   "source": [
    "importance = model.feature_importances_\n",
    "\n",
    "# Map importance to feature names\n",
    "features = X_train.columns\n",
    "importance_df = pd.DataFrame({\n",
    "    'Feature': features,\n",
    "    'Importance': importance\n",
    "}).sort_values(by='Importance', ascending=False)\n",
    "\n",
    "print(importance_df)\n",
    "\n"
   ]
  },
  {
   "cell_type": "code",
   "execution_count": 116,
   "metadata": {},
   "outputs": [
    {
     "data": {
      "image/png": "[encoded data removed]",
      "text/plain": [
       "<Figure size 640x480 with 1 Axes>"
      ]
     },
     "metadata": {},
     "output_type": "display_data"
    }
   ],
   "source": [
    "from xgboost import plot_importance\n",
    "plot_importance(model)\n",
    "plt.show()\n"
   ]
  },
  {
   "cell_type": "code",
   "execution_count": 110,
   "metadata": {},
   "outputs": [
    {
     "name": "stderr",
     "output_type": "stream",
     "text": [
      "C:\\Users\\Josh\\AppData\\Local\\Temp\\ipykernel_18300\\936004619.py:5: FutureWarning: \n",
      "\n",
      "Passing `palette` without assigning `hue` is deprecated and will be removed in v0.14.0. Assign the `x` variable to `hue` and set `legend=False` for the same effect.\n",
      "\n",
      "  sns.barplot(x=play_type_counts.index, y=play_type_counts.values, palette='viridis')\n"
     ]
    },
    {
     "data": {
      "image/png": "[encoded data removed]",
      "text/plain": [
       "<Figure size 1000x600 with 1 Axes>"
      ]
     },
     "metadata": {},
     "output_type": "display_data"
    }
   ],
   "source": [
    "play_type_counts = df['play_type'].value_counts()\n",
    "\n",
    "# Create a bar plot\n",
    "plt.figure(figsize=(10, 6))\n",
    "sns.barplot(x=play_type_counts.index, y=play_type_counts.values, palette='viridis')\n",
    "plt.title('Comparison of Different Play Types')\n",
    "plt.xlabel('Play Type')\n",
    "plt.ylabel('Count')\n",
    "plt.xticks(rotation=45)\n",
    "plt.show()"
   ]
  }
 ],
 "metadata": {
  "kernelspec": {
   "display_name": "Python 3",
   "language": "python",
   "name": "python3"
  },
  "language_info": {
   "codemirror_mode": {
    "name": "ipython",
    "version": 3
   },
   "file_extension": ".py",
   "mimetype": "text/x-python",
   "name": "python",
   "nbconvert_exporter": "python",
   "pygments_lexer": "ipython3",
   "version": "3.12.6"
  }
 },
 "nbformat": 4,
 "nbformat_minor": 2
}
